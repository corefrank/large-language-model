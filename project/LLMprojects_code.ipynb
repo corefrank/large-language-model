{
 "cells": [
  {
   "cell_type": "markdown",
   "metadata": {},
   "source": [
    "### Nucleus Sampling"
   ]
  },
  {
   "cell_type": "code",
   "execution_count": 2,
   "metadata": {},
   "outputs": [
    {
     "name": "stdout",
     "output_type": "stream",
     "text": [
      "Token IDs for 'Once upon a time': [7454, 2402, 257, 640]\n"
     ]
    }
   ],
   "source": [
    "from transformers import GPT2Tokenizer\n",
    "\n",
    "# Load GPT-2 tokenizer\n",
    "model_name = \"gpt2\"\n",
    "tokenizer = GPT2Tokenizer.from_pretrained(model_name)\n",
    "\n",
    "# Input text\n",
    "text = \"Once upon a time\"\n",
    "\n",
    "# Tokenize the text and get token IDs\n",
    "token_ids = tokenizer.encode(text, add_special_tokens=False)\n",
    "\n",
    "# Display token IDs\n",
    "print(f\"Token IDs for '{text}': {token_ids}\")\n"
   ]
  },
  {
   "cell_type": "code",
   "execution_count": 3,
   "metadata": {},
   "outputs": [
    {
     "name": "stdout",
     "output_type": "stream",
     "text": [
      "I am a science teacher. I have no family other than my six kids who enjoy my teaching. As professional educators, I make sure everyone I reach out to feels\n"
     ]
    }
   ],
   "source": [
    "from transformers import GPT2Tokenizer, GPT2LMHeadModel\n",
    "import torch\n",
    "\n",
    "#We used the gpt-2 model\n",
    "model_name = \"gpt2\"\n",
    "tokenizer = GPT2Tokenizer.from_pretrained(model_name)\n",
    "model = GPT2LMHeadModel.from_pretrained(model_name)\n",
    "model.eval()\n",
    "\n",
    "def nucleus_sampling(model, tokenizer, prompt, max_length, p=0.9):\n",
    "    input_ids = tokenizer.encode(prompt, return_tensors=\"pt\")\n",
    "    \n",
    "    #Generating Tokens Iteratively\n",
    "    for _ in range(max_length):\n",
    "        outputs = model(input_ids)\n",
    "        logits = outputs.logits[:, -1, :] # shape of outputs.logits (batch_size, seq_len, vocab_size)\n",
    "        \n",
    "        probs = torch.softmax(logits, dim=-1)#Computes probabilities\n",
    "        sorted_probs, sorted_indices = torch.sort(probs, descending=True)\n",
    "        cumulative_probs = torch.cumsum(sorted_probs, dim=-1)\n",
    "        \n",
    "        sorted_indices_to_remove = cumulative_probs > p #keep the probs< p,thats nucleus sampling\n",
    "        sorted_indices_to_remove[:, 1:] = sorted_indices_to_remove[:, :-1].clone()\n",
    "        sorted_indices_to_remove[:, 0] = False #Ensure that the first word is never removed\n",
    "        \n",
    "        indices_to_remove = sorted_indices[sorted_indices_to_remove]\n",
    "        probs[:, indices_to_remove] = 0 #Remove the indices that not important\n",
    "        \n",
    "        #Re Normalise \n",
    "        probs = probs / torch.sum(probs, dim=-1, keepdim=True)\n",
    "        \n",
    "        #Take our next token randomnly\n",
    "        next_token = torch.multinomial(probs, num_samples=1)\n",
    "        \n",
    "        input_ids = torch.cat((input_ids, next_token), dim=1)\n",
    "    \n",
    "        if next_token.item() == tokenizer.eos_token_id:  #If token EOS (== end) stop\n",
    "            break\n",
    "    \n",
    "    #Detokenize the words\n",
    "    output_text = tokenizer.decode(input_ids[0], skip_special_tokens=True)\n",
    "    return output_text\n",
    "\n",
    "prompt = \"I am a\"  # SUCH as \" Once upon a time\"\n",
    "generated_text = nucleus_sampling(model, tokenizer, prompt, max_length=30, p=0.95)\n",
    "print(generated_text)"
   ]
  },
  {
   "cell_type": "markdown",
   "metadata": {},
   "source": [
    "### Top K Generated"
   ]
  },
  {
   "cell_type": "code",
   "execution_count": null,
   "metadata": {},
   "outputs": [
    {
     "name": "stdout",
     "output_type": "stream",
     "text": [
      "Top K Generated Text:\n",
      "I am a young, beautiful, well educated woman who has always loved the outdoors and has never had a passion for anything. I am very happy to help others out\n"
     ]
    }
   ],
   "source": [
    "from transformers import GPT2Tokenizer, GPT2LMHeadModel\n",
    "import torch\n",
    "model_name = \"gpt2\"\n",
    "tokenizer = GPT2Tokenizer.from_pretrained(model_name)\n",
    "model = GPT2LMHeadModel.from_pretrained(model_name)\n",
    "model.eval()\n",
    "\n",
    "def top_k_sampling(model, tokenizer, prompt, max_length, k=10):\n",
    "\n",
    "    input_ids = tokenizer.encode(prompt, return_tensors=\"pt\")\n",
    "    \n",
    "    for _ in range(max_length):\n",
    "        outputs = model(input_ids)\n",
    "        logits = outputs.logits[:, -1, :]\n",
    "        \n",
    "\n",
    "        probs = torch.softmax(logits, dim=-1)\n",
    "        # Sort probabilities in descending order\n",
    "        sorted_probs, sorted_indices = torch.sort(probs, descending=True)\n",
    "        #print(sorted_probs)\n",
    "        \n",
    "        # Keep only the top-k indices\n",
    "        k = 10  # Set the value of k\n",
    "        sorted_indices_to_remove = torch.zeros_like(probs, dtype=torch.bool)\n",
    "        \n",
    "        # Mark indices to remove (everything after the top k)\n",
    "        sorted_indices_to_remove[:, k:] = True\n",
    "        \n",
    "        indices_to_remove = sorted_indices[sorted_indices_to_remove]\n",
    "        probs[:, indices_to_remove] = 0\n",
    "        probs = probs / torch.sum(probs, dim=-1, keepdim=True)\n",
    "\n",
    "        next_token = torch.multinomial(probs, num_samples=1)\n",
    "        input_ids = torch.cat((input_ids, next_token), dim=1)\n",
    "        \n",
    "        if next_token.item() == tokenizer.eos_token_id:\n",
    "            break\n",
    "    output_text = tokenizer.decode(input_ids[0], skip_special_tokens=True)\n",
    "    return output_text\n",
    "\n",
    "prompt = \"I am a\"  # SUCH as \" Once upon a time\"\n",
    "print(\"Top K Generated Text:\")\n",
    "generated_text = top_k_sampling(model, tokenizer, prompt, max_length=30)\n",
    "print(generated_text)\n"
   ]
  },
  {
   "cell_type": "markdown",
   "metadata": {},
   "source": [
    "### Beam Search Implementation"
   ]
  },
  {
   "cell_type": "code",
   "execution_count": 26,
   "metadata": {},
   "outputs": [
    {
     "name": "stdout",
     "output_type": "stream",
     "text": [
      "Beam Search Generated Text:\n",
      "I am a member of the United States House of Representatives. I am a member of the United States Senate. I am a member of the United States House of Representatives\n"
     ]
    }
   ],
   "source": [
    "import torch\n",
    "from transformers import GPT2Tokenizer, GPT2LMHeadModel\n",
    "\n",
    "model_name = \"gpt2\"\n",
    "tokenizer = GPT2Tokenizer.from_pretrained(model_name)\n",
    "model = GPT2LMHeadModel.from_pretrained(model_name)\n",
    "model.eval()\n",
    "\n",
    "def beam_search(model, tokenizer, prompt, max_length, beam_width=3):\n",
    "\n",
    " \n",
    "    input_ids = tokenizer.encode(prompt, return_tensors=\"pt\")\n",
    "    device = torch.device(\"cuda\" if torch.cuda.is_available() else \"cpu\")\n",
    "    model.to(device)\n",
    "    input_ids = input_ids.to(device)\n",
    "    beams = [(input_ids, 0)]  # (sequence, cumulative log-probability)\n",
    "\n",
    "    for _ in range(max_length):\n",
    "        new_beams = []\n",
    "        for seq, score in beams:\n",
    "        \n",
    "            outputs = model(seq)\n",
    "            logits = outputs.logits[:, -1, :]\n",
    "            probs = torch.softmax(logits, dim=-1)\n",
    "            top_k_probs, top_k_indices = torch.topk(probs, beam_width, dim=-1)\n",
    "    \n",
    "            for prob, idx in zip(top_k_probs[0], top_k_indices[0]):\n",
    "                new_seq = torch.cat([seq, idx.unsqueeze(0).unsqueeze(0)], dim=1)\n",
    "                new_score = score + torch.log(prob).item()\n",
    "                new_beams.append((new_seq, new_score))\n",
    "        \n",
    "        # Sort all new beams by score and keep the top-k\n",
    "        new_beams = sorted(new_beams, key=lambda x: x[1], reverse=True)[:beam_width]\n",
    "        beams = new_beams\n",
    "\n",
    "        # Stop if all beams end with the EOS token\n",
    "        if all(beam[0][0, -1].item() == tokenizer.eos_token_id for beam in beams):\n",
    "            break\n",
    "\n",
    "    # Return the sequence with the highest score\n",
    "    best_sequence = beams[0][0]\n",
    "    output_text = tokenizer.decode(best_sequence[0], skip_special_tokens=True)\n",
    "    return output_text\n",
    "\n",
    "\n",
    "prompt = \"I am a\"\n",
    "beam_generated_text = beam_search(model, tokenizer, prompt, max_length=30, beam_width=3)\n",
    "print(\"Beam Search Generated Text:\")\n",
    "print(beam_generated_text)\n",
    "\n"
   ]
  },
  {
   "cell_type": "markdown",
   "metadata": {},
   "source": [
    "Beam Search exhibits **repetition**\n",
    "\n",
    "This repetition occurs because Beam Search prioritizes high-probability sequences. Neural language models like GPT-2 often assign high probabilities to repetitive patterns, as they tend to align with the training data distribution, especially in a narrow beam width scenario."
   ]
  },
  {
   "cell_type": "markdown",
   "metadata": {},
   "source": [
    "## Comparison\n",
    "- several Evaluation Criterias can use according to the article\n",
    "- Perplexity\n",
    "- Self-BLEU\n",
    "- Zipf distribution coefficient\n",
    "- Repetition Rate\n",
    "- Human Unified with Statistical Evaluation"
   ]
  },
  {
   "cell_type": "markdown",
   "metadata": {},
   "source": [
    "#### Perplexity"
   ]
  },
  {
   "cell_type": "code",
   "execution_count": 27,
   "metadata": {},
   "outputs": [
    {
     "name": "stdout",
     "output_type": "stream",
     "text": [
      "Human text (from Snow White):\n",
      "ONCE UPON A TIME, a Princess named Snow White lived in a castle with her father the King and her Stepmother the Queen. Her father always reminded his daughter that above all else, a royal family must be fair. \n",
      "Perplexity: 50.17633819580078\n",
      "\n",
      "Nucleus Sampling:\n",
      "Once upon a time, Mari's injury seemed to overwhelm her with wild swings of her body and ears. Although she normally loved to swing her back against the wall, her\n",
      "Perplexity: 35.201656341552734\n",
      "\n",
      "Beam Search:\n",
      "Once upon a time, it was said that the Lord had said to Moses, \"I will give you the keys of the kingdom of heaven, and I will give you\n",
      "Perplexity: 4.922097206115723\n",
      "\n",
      "Top K:\n",
      "Once upon a time of such great danger, the whole of the world was at war. And there were those who had been in the habit of going to war, and\n",
      "Perplexity: 12.19388484954834\n"
     ]
    }
   ],
   "source": [
    "import torch\n",
    "from transformers import GPT2Tokenizer, GPT2LMHeadModel\n",
    "\n",
    "# Load GPT-2 model and tokenizer\n",
    "model_name = \"gpt2\"\n",
    "tokenizer = GPT2Tokenizer.from_pretrained(model_name)\n",
    "model = GPT2LMHeadModel.from_pretrained(model_name)\n",
    "model.eval()\n",
    "\n",
    "\n",
    "def calculate_perplexity(model, tokenizer, text):\n",
    "\n",
    "    # Tokenize input text\n",
    "    input_ids = tokenizer.encode(text, return_tensors=\"pt\")\n",
    "    device = torch.device(\"cuda\" if torch.cuda.is_available() else \"cpu\")\n",
    "    model.to(device)\n",
    "    input_ids = input_ids.to(device)\n",
    "\n",
    "    with torch.no_grad():\n",
    "        outputs = model(input_ids, labels=input_ids)\n",
    "        loss = outputs.loss  # Cross-entropy loss\n",
    "\n",
    "    perplexity = torch.exp(loss).item()\n",
    "    return perplexity\n",
    "\n",
    "def nucleus_sampling(model, tokenizer, prompt, max_length, top_p=0.9):\n",
    "    input_ids = tokenizer.encode(prompt, return_tensors=\"pt\").to(model.device)\n",
    "    for _ in range(max_length):\n",
    "        outputs = model(input_ids)\n",
    "        logits = outputs.logits[:, -1, :]\n",
    "        probs = torch.softmax(logits, dim=-1).clone()  # Clone the tensor to avoid memory conflicts\n",
    "        sorted_probs, sorted_indices = torch.sort(probs, descending=True)\n",
    "        cumulative_probs = torch.cumsum(sorted_probs, dim=-1)\n",
    "\n",
    "       \n",
    "        sorted_indices_to_remove = cumulative_probs > top_p\n",
    "        sorted_indices_to_remove[:, 1:] = sorted_indices_to_remove[:, :-1].clone()\n",
    "        sorted_indices_to_remove[:, 0] = False\n",
    "\n",
    "        # Remove the indices that have probabilities not high enough\n",
    "        indices_to_remove = sorted_indices[sorted_indices_to_remove]\n",
    "        probs[:, indices_to_remove] = 0\n",
    "\n",
    "        probs = probs / torch.sum(probs, dim=-1, keepdim=True)\n",
    "        next_token = torch.multinomial(probs, num_samples=1)\n",
    "        input_ids = torch.cat((input_ids, next_token), dim=1)\n",
    "        if next_token.item() == tokenizer.eos_token_id:\n",
    "            break\n",
    "    return tokenizer.decode(input_ids[0], skip_special_tokens=True)\n",
    "\n",
    "def beam_search(model, tokenizer, prompt, max_length, beam_width=3):\n",
    "    input_ids = tokenizer.encode(prompt, return_tensors=\"pt\").to(model.device)\n",
    "    beams = [(input_ids, 0)]  # (sequence, cumulative log-probability)\n",
    "    for _ in range(max_length):\n",
    "        new_beams = []\n",
    "        for seq, score in beams:\n",
    "            outputs = model(seq)\n",
    "            logits = outputs.logits[:, -1, :]\n",
    "            probs = torch.softmax(logits, dim=-1)\n",
    "            top_k_probs, top_k_indices = torch.topk(probs, beam_width, dim=-1)\n",
    "            for prob, idx in zip(top_k_probs[0], top_k_indices[0]):\n",
    "                new_seq = torch.cat([seq, idx.unsqueeze(0).unsqueeze(0)], dim=1)\n",
    "                new_score = score + torch.log(prob).item()\n",
    "                new_beams.append((new_seq, new_score))\n",
    "        new_beams = sorted(new_beams, key=lambda x: x[1], reverse=True)[:beam_width]\n",
    "        beams = new_beams\n",
    "        if all(beam[0][0, -1].item() == tokenizer.eos_token_id for beam in beams):\n",
    "            break\n",
    "    best_sequence = beams[0][0]\n",
    "    return tokenizer.decode(best_sequence[0], skip_special_tokens=True)\n",
    "\n",
    "# Comparison setup\n",
    "prompt = \"Once upon a time\"\n",
    "max_length = 30\n",
    "\n",
    "# Generate text using Nucleus Sampling\n",
    "nucleus_text = nucleus_sampling(model, tokenizer, prompt, max_length, top_p=0.9)\n",
    "nucleus_perplexity = calculate_perplexity(model, tokenizer, nucleus_text)\n",
    "\n",
    "top_k_text = top_k_sampling(model, tokenizer, prompt, max_length, k=10)\n",
    "top_k_perplexity = calculate_perplexity(model, tokenizer, top_k_text)\n",
    "\n",
    "# Generate text using Beam Search\n",
    "beam_text = beam_search(model, tokenizer, prompt, max_length, beam_width=3)\n",
    "beam_perplexity = calculate_perplexity(model, tokenizer, beam_text)\n",
    "\n",
    "human_text = \"ONCE UPON A TIME, a Princess named Snow White lived in a castle with her father the King and her Stepmother the Queen. Her father always reminded his daughter that above all else, a royal family must be fair. \"\n",
    "human_perplexity = calculate_perplexity(model, tokenizer, human_text)\n",
    "print(\"Human text (from Snow White):\")\n",
    "print(human_text)\n",
    "print(f\"Perplexity: {human_perplexity}\")\n",
    "\n",
    "print(\"\\nNucleus Sampling:\")\n",
    "print(nucleus_text)\n",
    "print(f\"Perplexity: {nucleus_perplexity}\")\n",
    "\n",
    "print(\"\\nBeam Search:\")\n",
    "print(beam_text)\n",
    "print(f\"Perplexity: {beam_perplexity}\")\n",
    "\n",
    "print(\"\\nTop K:\")\n",
    "print(top_k_text)\n",
    "print(f\"Perplexity: {top_k_perplexity}\")\n"
   ]
  },
  {
   "cell_type": "markdown",
   "metadata": {},
   "source": [
    "#### Zipf Distribution Comparison"
   ]
  },
  {
   "cell_type": "code",
   "execution_count": null,
   "metadata": {},
   "outputs": [
    {
     "data": {
      "image/png": "[encoded data removed]",
      "text/plain": [
       "<Figure size 1000x600 with 1 Axes>"
      ]
     },
     "metadata": {},
     "output_type": "display_data"
    },
    {
     "name": "stdout",
     "output_type": "stream",
     "text": [
      "Zipf Coefficients:\n",
      "Human Text: -0.25\n",
      "Nucleus Sampling: -0.29\n",
      "Beam Search: -1.09\n",
      "Top K Sampling: -0.57\n"
     ]
    }
   ],
   "source": [
    "import torch\n",
    "from transformers import GPT2Tokenizer, GPT2LMHeadModel\n",
    "from collections import Counter\n",
    "import numpy as np\n",
    "import matplotlib.pyplot as plt\n",
    "from scipy.stats import linregress\n",
    "\n",
    "model_name = \"gpt2\"\n",
    "tokenizer = GPT2Tokenizer.from_pretrained(model_name)\n",
    "model = GPT2LMHeadModel.from_pretrained(model_name)\n",
    "model.eval()\n",
    "\n",
    "def calculate_zipf_coefficient(text):\n",
    "    # Tokenize the text into words\n",
    "    words = text.split()\n",
    "    \n",
    "    # Count word frequencies\n",
    "    word_counts = Counter(words)\n",
    "    \n",
    "    # Sort by frequency and assign ranks\n",
    "    frequencies = np.array(sorted(word_counts.values(), reverse=True))\n",
    "    ranks = np.arange(1, len(frequencies) + 1)\n",
    "    \n",
    "    # Compute log(rank) and log(frequency)\n",
    "    log_ranks = np.log(ranks)\n",
    "    log_frequencies = np.log(frequencies)\n",
    "    \n",
    "    # Perform linear regression to find the slope\n",
    "    slope, intercept, r_value, p_value, std_err = linregress(log_ranks, log_frequencies)\n",
    "    return slope, log_ranks, log_frequencies\n",
    "\n",
    "def compare_to_human_text(nucleus_text, beam_text, human_text, top_k_text):\n",
    "    # Calculate Zipf coefficients\n",
    "    nucleus_slope, nucleus_log_ranks, nucleus_log_freqs = calculate_zipf_coefficient(nucleus_text)\n",
    "    beam_slope, beam_log_ranks, beam_log_freqs = calculate_zipf_coefficient(beam_text)\n",
    "    human_slope, human_log_ranks, human_log_freqs = calculate_zipf_coefficient(human_text)\n",
    "    k_slope, k_ranks, k_freqs = calculate_zipf_coefficient(top_k_text)\n",
    "    \n",
    "    plt.figure(figsize=(10, 6))\n",
    "    \n",
    "    plt.plot(human_log_ranks, human_log_freqs, label=f\"Human Text (Slope={human_slope:.2f})\", marker='o', linestyle='--')# Human Text\n",
    "    plt.plot(nucleus_log_ranks, nucleus_log_freqs, label=f\"Nucleus Sampling (Slope={nucleus_slope:.2f})\", marker='x', linestyle='-.') # Nucleus Sampling\n",
    "    \n",
    "    plt.plot(beam_log_ranks, beam_log_freqs, label=f\"Beam Search (Slope={beam_slope:.2f})\", marker='s', linestyle=':')# Beam Search\n",
    "    plt.plot(k_ranks, k_freqs, label=f\"Top K sampling (Slope={k_slope:.2f})\", marker='v', linestyle='dotted')\n",
    "\n",
    "    plt.xlabel(\"Log(Rank)\")\n",
    "    plt.ylabel(\"Log(Frequency)\")\n",
    "    plt.title(\"Comparison of Zipf Distribution Coefficients\")\n",
    "    plt.legend()\n",
    "    plt.grid(True)\n",
    "    plt.show()\n",
    "\n",
    "    return nucleus_slope, beam_slope, human_slope, k_slope\n",
    "\n",
    "human_text = \"\"\"\n",
    "ONCE UPON A TIME, a Princess named Snow White lived in a castle with her father the King and her Stepmother the Queen. Her father always reminded his daughter that above all else, a royal family must be fair. \n",
    "\"\"\"\n",
    "\n",
    "#Cinderella Story\n",
    "# Once upon a time, there lived a king whose daughters were all beautiful. But the youngest was so beautiful that even the sun was surprised, when it shone in her face.  Close by the king's castle there was a great dark forest, and under an old tree in the forest there was a well.\n",
    "\n",
    "# The Frog Prince\n",
    "# ONCE UPON A TIME a girl named Cinderella lived with her stepmother and two stepsisters. Poor Cinderella had to work hard all day long so the others could rest. It was she who had to wake up each morning when it was still dark and cold to start the fire.\n",
    "\n",
    "# Snow White and the Seven Dwarfs\n",
    "# ONCE UPON A TIME, a Princess named Snow White lived in a castle with her father the King and her Stepmother the Queen. Her father always reminded his daughter that above all else, a royal family must be fair. \n",
    "\n",
    "\n",
    "prompt = \"Once upon a time\"\n",
    "max_length = 100\n",
    "\n",
    "# Use your implemented Nucleus Sampling and Beam Search functions\n",
    "nucleus_text = nucleus_sampling(model, tokenizer, prompt, max_length, top_p=0.9)\n",
    "beam_text = beam_search(model, tokenizer, prompt, max_length, beam_width=3)\n",
    "top_k_text = top_k_sampling(model, tokenizer, prompt, max_length, k=10)\n",
    "\n",
    "# Compare to human text\n",
    "nucleus_slope, beam_slope, human_slope, top_k_slope = compare_to_human_text(nucleus_text, beam_text, human_text, top_k_text)\n",
    "\n",
    "print(\"Zipf Coefficients:\")\n",
    "print(f\"Human Text: {human_slope:.2f}\")\n",
    "print(f\"Nucleus Sampling: {nucleus_slope:.2f}\")\n",
    "print(f\"Beam Search: {beam_slope:.2f}\")\n",
    "print(f\"Top K Sampling: {top_k_slope:.2f}\")\n"
   ]
  },
  {
   "cell_type": "markdown",
   "metadata": {},
   "source": [
    "- cause many fairy tales is beginning in sentence\" ONCE UPON A TIME\", so i choose the sentence from **$'Cinderella Story', 'Snow White and the Seven Dwarfs', 'The Frog Prince'$** to be the human_text \n",
    "- all of them shows that Nucleus Sampling are by far the closest to the human distribution, while Beam Search clearly follows a very different distribution than natural language."
   ]
  }
 ],
 "metadata": {
  "kernelspec": {
   "display_name": "Python 3",
   "language": "python",
   "name": "python3"
  },
  "language_info": {
   "codemirror_mode": {
    "name": "ipython",
    "version": 3
   },
   "file_extension": ".py",
   "mimetype": "text/x-python",
   "name": "python",
   "nbconvert_exporter": "python",
   "pygments_lexer": "ipython3",
   "version": "3.12.4"
  }
 },
 "nbformat": 4,
 "nbformat_minor": 4
}
